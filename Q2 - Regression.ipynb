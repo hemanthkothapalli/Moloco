{
 "cells": [
  {
   "cell_type": "code",
   "execution_count": 20,
   "metadata": {},
   "outputs": [],
   "source": [
    "#Importing needed libraries\n",
    "import pandas as pd\n",
    "import datetime as DT\n",
    "import matplotlib.pyplot as plt\n",
    "import numpy as np"
   ]
  },
  {
   "cell_type": "code",
   "execution_count": 2,
   "metadata": {},
   "outputs": [
    {
     "data": {
      "text/html": [
       "<div>\n",
       "<style scoped>\n",
       "    .dataframe tbody tr th:only-of-type {\n",
       "        vertical-align: middle;\n",
       "    }\n",
       "\n",
       "    .dataframe tbody tr th {\n",
       "        vertical-align: top;\n",
       "    }\n",
       "\n",
       "    .dataframe thead th {\n",
       "        text-align: right;\n",
       "    }\n",
       "</style>\n",
       "<table border=\"1\" class=\"dataframe\">\n",
       "  <thead>\n",
       "    <tr style=\"text-align: right;\">\n",
       "      <th></th>\n",
       "      <th>0</th>\n",
       "      <th>1</th>\n",
       "      <th>2</th>\n",
       "    </tr>\n",
       "  </thead>\n",
       "  <tbody>\n",
       "    <tr>\n",
       "      <th>0</th>\n",
       "      <td>0.490</td>\n",
       "      <td>-0.18</td>\n",
       "      <td>11.50</td>\n",
       "    </tr>\n",
       "    <tr>\n",
       "      <th>1</th>\n",
       "      <td>-1.410</td>\n",
       "      <td>-1.23</td>\n",
       "      <td>11.80</td>\n",
       "    </tr>\n",
       "    <tr>\n",
       "      <th>2</th>\n",
       "      <td>0.943</td>\n",
       "      <td>4.51</td>\n",
       "      <td>-3.24</td>\n",
       "    </tr>\n",
       "    <tr>\n",
       "      <th>3</th>\n",
       "      <td>3.570</td>\n",
       "      <td>5.07</td>\n",
       "      <td>-23.90</td>\n",
       "    </tr>\n",
       "    <tr>\n",
       "      <th>4</th>\n",
       "      <td>-1.700</td>\n",
       "      <td>6.91</td>\n",
       "      <td>-22.10</td>\n",
       "    </tr>\n",
       "  </tbody>\n",
       "</table>\n",
       "</div>"
      ],
      "text/plain": [
       "       0     1      2\n",
       "0  0.490 -0.18  11.50\n",
       "1 -1.410 -1.23  11.80\n",
       "2  0.943  4.51  -3.24\n",
       "3  3.570  5.07 -23.90\n",
       "4 -1.700  6.91 -22.10"
      ]
     },
     "execution_count": 2,
     "metadata": {},
     "output_type": "execute_result"
    }
   ],
   "source": [
    "#Loading data\n",
    "\n",
    "loaded_data = pd.read_csv('Adops & Data Scientist Sample Data - Q2 Regression.csv',header = None)\n",
    "loaded_data.head()"
   ]
  },
  {
   "cell_type": "code",
   "execution_count": 3,
   "metadata": {},
   "outputs": [],
   "source": [
    "loaded_data.columns = ['A', 'B', 'C']"
   ]
  },
  {
   "cell_type": "code",
   "execution_count": 5,
   "metadata": {},
   "outputs": [
    {
     "data": {
      "text/html": [
       "<div>\n",
       "<style scoped>\n",
       "    .dataframe tbody tr th:only-of-type {\n",
       "        vertical-align: middle;\n",
       "    }\n",
       "\n",
       "    .dataframe tbody tr th {\n",
       "        vertical-align: top;\n",
       "    }\n",
       "\n",
       "    .dataframe thead th {\n",
       "        text-align: right;\n",
       "    }\n",
       "</style>\n",
       "<table border=\"1\" class=\"dataframe\">\n",
       "  <thead>\n",
       "    <tr style=\"text-align: right;\">\n",
       "      <th></th>\n",
       "      <th>A</th>\n",
       "      <th>B</th>\n",
       "      <th>C</th>\n",
       "    </tr>\n",
       "  </thead>\n",
       "  <tbody>\n",
       "    <tr>\n",
       "      <th>count</th>\n",
       "      <td>300.000000</td>\n",
       "      <td>300.000000</td>\n",
       "      <td>300.000000</td>\n",
       "    </tr>\n",
       "    <tr>\n",
       "      <th>mean</th>\n",
       "      <td>2.317009</td>\n",
       "      <td>2.013115</td>\n",
       "      <td>-41.564919</td>\n",
       "    </tr>\n",
       "    <tr>\n",
       "      <th>std</th>\n",
       "      <td>5.695248</td>\n",
       "      <td>2.998680</td>\n",
       "      <td>581.251021</td>\n",
       "    </tr>\n",
       "    <tr>\n",
       "      <th>min</th>\n",
       "      <td>-8.860000</td>\n",
       "      <td>-2.890000</td>\n",
       "      <td>-10000.000000</td>\n",
       "    </tr>\n",
       "    <tr>\n",
       "      <th>25%</th>\n",
       "      <td>-1.940000</td>\n",
       "      <td>-0.606250</td>\n",
       "      <td>-23.375000</td>\n",
       "    </tr>\n",
       "    <tr>\n",
       "      <th>50%</th>\n",
       "      <td>0.468500</td>\n",
       "      <td>1.935000</td>\n",
       "      <td>-3.090000</td>\n",
       "    </tr>\n",
       "    <tr>\n",
       "      <th>75%</th>\n",
       "      <td>7.042500</td>\n",
       "      <td>4.697500</td>\n",
       "      <td>16.300000</td>\n",
       "    </tr>\n",
       "    <tr>\n",
       "      <th>max</th>\n",
       "      <td>20.600000</td>\n",
       "      <td>7.000000</td>\n",
       "      <td>202.000000</td>\n",
       "    </tr>\n",
       "  </tbody>\n",
       "</table>\n",
       "</div>"
      ],
      "text/plain": [
       "                A           B             C\n",
       "count  300.000000  300.000000    300.000000\n",
       "mean     2.317009    2.013115    -41.564919\n",
       "std      5.695248    2.998680    581.251021\n",
       "min     -8.860000   -2.890000 -10000.000000\n",
       "25%     -1.940000   -0.606250    -23.375000\n",
       "50%      0.468500    1.935000     -3.090000\n",
       "75%      7.042500    4.697500     16.300000\n",
       "max     20.600000    7.000000    202.000000"
      ]
     },
     "execution_count": 5,
     "metadata": {},
     "output_type": "execute_result"
    }
   ],
   "source": [
    "#Exploratory Data Analysis\n",
    "loaded_data.describe()"
   ]
  },
  {
   "cell_type": "code",
   "execution_count": 6,
   "metadata": {},
   "outputs": [
    {
     "data": {
      "text/plain": [
       "False"
      ]
     },
     "execution_count": 6,
     "metadata": {},
     "output_type": "execute_result"
    }
   ],
   "source": [
    "loaded_data.isnull().values.any()"
   ]
  },
  {
   "cell_type": "code",
   "execution_count": 226,
   "metadata": {},
   "outputs": [
    {
     "data": {
      "text/plain": [
       "Text(0,0.5,'Values of C')"
      ]
     },
     "execution_count": 226,
     "metadata": {},
     "output_type": "execute_result"
    },
    {
     "data": {
      "image/png": "[encoded data removed]",
      "text/plain": [
       "<Figure size 432x288 with 1 Axes>"
      ]
     },
     "metadata": {},
     "output_type": "display_data"
    }
   ],
   "source": [
    "#From the summary statistics of the loaded data, we can see that column C has high standard deviation and also the mean \n",
    "#is also way too high. So we will try and get the distribution of data correct.\n",
    "\n",
    "\n",
    "B = loaded_data.B.values\n",
    "C = loaded_data.C.values\n",
    "\n",
    "plt.scatter(B, C)\n",
    "plt.xlabel(\"Values of B\")\n",
    "plt.ylabel(\"Values of C\")\n"
   ]
  },
  {
   "cell_type": "code",
   "execution_count": 15,
   "metadata": {},
   "outputs": [],
   "source": [
    "#Clearly from the above plot, we can see only one point being outlier. We wish to eliminate that row from the dataframe"
   ]
  },
  {
   "cell_type": "code",
   "execution_count": 16,
   "metadata": {},
   "outputs": [],
   "source": [
    "clean_loaded_data = loaded_data[loaded_data['C'] != loaded_data['C'].min()]"
   ]
  },
  {
   "cell_type": "code",
   "execution_count": 19,
   "metadata": {},
   "outputs": [
    {
     "data": {
      "text/plain": [
       "(299, 3)"
      ]
     },
     "execution_count": 19,
     "metadata": {},
     "output_type": "execute_result"
    }
   ],
   "source": [
    "clean_loaded_data.shape\n"
   ]
  },
  {
   "cell_type": "code",
   "execution_count": null,
   "metadata": {},
   "outputs": [],
   "source": []
  },
  {
   "cell_type": "code",
   "execution_count": null,
   "metadata": {},
   "outputs": [],
   "source": []
  },
  {
   "cell_type": "markdown",
   "metadata": {},
   "source": [
    "We are asked to build a regression model which explains column C by a function of A and B.\n",
    "\n",
    "This can be looked at as, the value of C in each row in dataframe is generated by some mathematical amputations of A and B.\n",
    "So, we can write a generic equation in the form of $$K = aX + bY + c$$ Here K = column C, X = column A and Y = column B and a, b, c are the other variants that lead to C using A and B. So, we consider the below equation for the regression to be solved -\n",
    "\n",
    "$$C = \\alpha_0 + \\alpha_1 A + \\alpha_2 B$$\n",
    "Since, we have the values of C, A, B as columns in dataframe, we convert them into arrays and so we need the below representation to build the regression model -\n",
    "\n",
    "$$ \\alpha = [\\alpha_0, \\alpha_1, \\alpha2]$$$$X = [1, A, B]$$\n",
    "So, we can write in short - $$Y = \\alpha ^ T X $$\n",
    "Thus, the cost function we want to minimize will be\n",
    "\n",
    "$$L(\\alpha) = \\frac{1}{2n} \\sum_{i=1}^n(\\alpha^T x^{(i)}-y^{(i)})^2$$\n",
    "\n",
    "\n",
    "Now, to perform gradient descent to calculate the gradients for the regression line, we take the derivative of the loss function to update the values of alpha. For this, we need partial differential of loss with respect to alpha which is equal to $$\\frac{\\partial L}{\\partial \\alpha} = \\eta /n * (\\alpha^T X - y)X $$ which we will use in the array form and so we can see such equation below in the train() function while updating the alpha. Note : $\\eta$ here is the learning rate.\n"
   ]
  },
  {
   "cell_type": "code",
   "execution_count": 213,
   "metadata": {},
   "outputs": [],
   "source": [
    "def Loss(X,y,alpha):\n",
    "    temp = np.dot(X,alpha.T)\n",
    "    temp_L = np.power((temp-y),2)\n",
    "    sum_L = np.sum(temp_L)\n",
    "    L = np.log(sum_L/ ( 2*len(X)))\n",
    "    \n",
    "    return L"
   ]
  },
  {
   "cell_type": "code",
   "execution_count": 214,
   "metadata": {},
   "outputs": [],
   "source": [
    "def train(X, y, alpha, num_iters, eta):\n",
    "    loss = np.zeros(num_iters)\n",
    "    for i in range(num_iters):\n",
    "        temp = np.dot(X,alpha.T)\n",
    "        alpha = alpha - (eta/len(X)) * np.sum(X * (X @ alpha.T - y), axis = 0)\n",
    "        loss[i] = Loss(X,y, alpha)\n",
    "    return loss, alpha"
   ]
  },
  {
   "cell_type": "code",
   "execution_count": 215,
   "metadata": {},
   "outputs": [
    {
     "name": "stderr",
     "output_type": "stream",
     "text": [
      "C:\\Users\\heman\\AppData\\Local\\Continuum\\anaconda3\\lib\\site-packages\\ipykernel_launcher.py:4: FutureWarning: Method .as_matrix will be removed in a future version. Use .values instead.\n",
      "  after removing the cwd from sys.path.\n"
     ]
    }
   ],
   "source": [
    "X = clean_loaded_data.iloc[:,0:2]\n",
    "ones = np.ones([X.shape[0],1]) \n",
    "X = np.concatenate((ones,X),axis=1)\n",
    "y = clean_loaded_data.as_matrix(columns=clean_loaded_data.columns[2:])\n",
    "alpha = np.zeros([1,3]) \n",
    "\n",
    "# set hyper_parameters - learning rate (eta) and number of iterations for training (num_iters)\n",
    "eta = 0.008\n",
    "num_iters = 2000 "
   ]
  },
  {
   "cell_type": "code",
   "execution_count": 216,
   "metadata": {},
   "outputs": [
    {
     "name": "stdout",
     "output_type": "stream",
     "text": [
      "[[ -8.25911485  -7.77229685 -45.56754398]]\n"
     ]
    }
   ],
   "source": [
    "loss, alpha = train(X, y , alpha, num_iters, eta)\n",
    "print(alpha)"
   ]
  },
  {
   "cell_type": "code",
   "execution_count": 217,
   "metadata": {},
   "outputs": [
    {
     "data": {
      "text/plain": [
       "Text(0,0.5,'Loss')"
      ]
     },
     "execution_count": 217,
     "metadata": {},
     "output_type": "execute_result"
    },
    {
     "data": {
      "image/png": "[encoded data removed]",
      "text/plain": [
       "<Figure size 432x288 with 1 Axes>"
      ]
     },
     "metadata": {},
     "output_type": "display_data"
    }
   ],
   "source": [
    "plt.plot(loss)\n",
    "plt.xlabel('Number of Iterations')\n",
    "plt.ylabel('Loss')"
   ]
  },
  {
   "cell_type": "markdown",
   "metadata": {},
   "source": [
    "By observing the loss function (in log scale) and plot, we can understand that even though it seems like the loss is decreasing (which is what is our goal), it is becoming stagnant after some 250 iterations and not going towards zero. So, we must try to see what variations of A and B can be leveraged to build a regression model with the given data. It is always best to use the $R^2$ value along with the Root Mean Squared Error (RMSE) to understand how the model we built fits the data we have. \n",
    "\n",
    "The following functions helps us to calculate $R^2$ value and RMSE value using the predicted value (here, from the equation we wrote above $Y = \\alpha ^ T X $) as we cannot use any external ML libraries - "
   ]
  },
  {
   "cell_type": "code",
   "execution_count": 114,
   "metadata": {},
   "outputs": [
    {
     "data": {
      "text/plain": [
       "A     0.49\n",
       "B    -0.18\n",
       "C    11.50\n",
       "Name: 0, dtype: float64"
      ]
     },
     "execution_count": 114,
     "metadata": {},
     "output_type": "execute_result"
    }
   ],
   "source": [
    "clean_loaded_data.iloc[0]"
   ]
  },
  {
   "cell_type": "code",
   "execution_count": 218,
   "metadata": {},
   "outputs": [],
   "source": [
    "def r2_score_calc(y, y_pred):\n",
    "    \n",
    "    mean_y = np.mean(y)\n",
    "    temp1 = y - y_pred\n",
    "    A = sum(temp1 ** 2)\n",
    "    temp2 = y - mean_y\n",
    "    B = sum(temp2 ** 2)\n",
    "    \n",
    "    r2 = 1 - (A / B)\n",
    "    return r2.item()"
   ]
  },
  {
   "cell_type": "code",
   "execution_count": 219,
   "metadata": {},
   "outputs": [],
   "source": [
    "def rmse_calc(y, y_pred):\n",
    "    temp = (y - y_pred)\n",
    "    rmse = np.sqrt(sum(temp ** 2) / len(y))\n",
    "    return rmse.item()"
   ]
  },
  {
   "cell_type": "code",
   "execution_count": 220,
   "metadata": {},
   "outputs": [
    {
     "name": "stdout",
     "output_type": "stream",
     "text": [
      "R2 = 0.39402221021317496\n",
      "RMSE = 55.427287513350294\n"
     ]
    }
   ],
   "source": [
    "y_pred = X.dot(alpha.T)\n",
    "\n",
    "r2 = r2_score_calc(y,y_pred)\n",
    "rmse = rmse_calc(y,y_pred)\n",
    "\n",
    "print('R2 =',r2)\n",
    "print('RMSE =',rmse)"
   ]
  },
  {
   "cell_type": "code",
   "execution_count": 221,
   "metadata": {},
   "outputs": [
    {
     "name": "stdout",
     "output_type": "stream",
     "text": [
      "[[ -8.25911572  -7.77235668 -45.56760402]]\n"
     ]
    }
   ],
   "source": [
    "loss, alpha = train(X, y , alpha, num_iters, eta)\n",
    "print(alpha)"
   ]
  },
  {
   "cell_type": "code",
   "execution_count": 222,
   "metadata": {},
   "outputs": [
    {
     "name": "stdout",
     "output_type": "stream",
     "text": [
      "R2 = 0.39402221021432293\n",
      "RMSE = 55.42728751329779\n"
     ]
    }
   ],
   "source": [
    "y_pred = X.dot(alpha.T)\n",
    "\n",
    "r2 = r2_score_calc(y,y_pred)\n",
    "rmse = rmse_calc(y,y_pred)\n",
    "\n",
    "print('R2 =',r2)\n",
    "print('RMSE =',rmse)"
   ]
  },
  {
   "cell_type": "markdown",
   "metadata": {},
   "source": [
    "Trying different polynomial versions of A and B to get high $R^2$ and low RMSE as they suggest better fit.\n"
   ]
  },
  {
   "cell_type": "code",
   "execution_count": 225,
   "metadata": {},
   "outputs": [
    {
     "name": "stdout",
     "output_type": "stream",
     "text": [
      "Best(Highest) R2: 0.4230408460509235 \n",
      " Best (Lowest) RMSE: 54.08387575586437 \n",
      " Best exponent of A: 2 \n",
      " Best exponent of B: 3\n"
     ]
    }
   ],
   "source": [
    "\n",
    "range1 = [1,2,3,4]\n",
    "r2_a = 0\n",
    "rmse_a = 1000\n",
    "for i in range1:\n",
    "    for j in range1:\n",
    "        X = clean_loaded_data.iloc[:,0:2] \n",
    "        #Trying different powers of A and B\n",
    "        X['A2'] = X['A']**i\n",
    "        X['B2'] = X['B']**j \n",
    "\n",
    "        ones = np.ones([X.shape[0],1]) \n",
    "        X = np.concatenate((ones,X),axis=1) \n",
    "        alpha = np.zeros([1,5])\n",
    "        \n",
    "        #Updating alpha values using training\n",
    "        loss, alpha = train(X, y , alpha, num_iters, eta)\n",
    "        \n",
    "        #making predictions based on updated alphas and input (X)\n",
    "        y_pred = X.dot(alpha.T)\n",
    "        \n",
    "        #Calculating best r^2 and rmse scores\n",
    "        r2 = r2_score_calc(y,y_pred)\n",
    "        rmse = rmse_calc(y,y_pred)\n",
    "        if r2 > r2_a:\n",
    "            r2_a = r2\n",
    "            k = i\n",
    "            l = j\n",
    "        if rmse < rmse_a:\n",
    "            rmse_a = rmse\n",
    "            k = i\n",
    "            l = j\n",
    "        \n",
    "print(\"Best(Highest) R2:\",r2_a, '\\n', \"Best (Lowest) RMSE:\", rmse_a, '\\n',\"Best exponent of A:\", k,'\\n',\"Best exponent of B:\", l)"
   ]
  },
  {
   "cell_type": "markdown",
   "metadata": {},
   "source": [
    "From above experiment it is better, if we have $$A^2 and B^3$$ included in the regression model. That gives us a better fit based on the given values"
   ]
  },
  {
   "cell_type": "code",
   "execution_count": null,
   "metadata": {},
   "outputs": [],
   "source": []
  }
 ],
 "metadata": {
  "kernelspec": {
   "display_name": "Python 3",
   "language": "python",
   "name": "python3"
  },
  "language_info": {
   "codemirror_mode": {
    "name": "ipython",
    "version": 3
   },
   "file_extension": ".py",
   "mimetype": "text/x-python",
   "name": "python",
   "nbconvert_exporter": "python",
   "pygments_lexer": "ipython3",
   "version": "3.6.5"
  }
 },
 "nbformat": 4,
 "nbformat_minor": 2
}
